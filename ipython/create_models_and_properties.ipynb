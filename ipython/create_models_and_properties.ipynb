{
 "cells": [
  {
   "cell_type": "markdown",
   "metadata": {},
   "source": [
    "# Data-informed parameter synthesis for population pDTMCs, notebook 1/6"
   ]
  },
  {
   "cell_type": "markdown",
   "metadata": {},
   "source": [
    "This notebook provides creation of the models (.pm files) and the properties files (.pctl) which are standard formats. Since the models can be large this part was also automatised. The notebook consists of the two respective parts: \n",
    "1. [Creation of the models](#one)\n",
    "2. [Creation of the properties](#two)\n",
    "\n",
    "There is only one thing to setup in this notebook:\n",
    "1. `agents_quantities` - set of agents number to be considered - set numbers for which you want to run analysis.\n",
    "\n",
    "The following notebook is: `synth_params`"
   ]
  },
  {
   "cell_type": "markdown",
   "metadata": {},
   "source": [
    "## IMPORTS, PATHS, and SETTINGS"
   ]
  },
  {
   "cell_type": "markdown",
   "metadata": {},
   "source": [
    "if a package fails to load due to it is not installed please uncomment and use following code with respective package name"
   ]
  },
  {
   "cell_type": "code",
   "execution_count": null,
   "metadata": {},
   "outputs": [],
   "source": [
    "import os,sys"
   ]
  },
  {
   "cell_type": "code",
   "execution_count": null,
   "metadata": {},
   "outputs": [],
   "source": [
    "sys.path.append(os.path.abspath('../src'))"
   ]
  },
  {
   "cell_type": "code",
   "execution_count": null,
   "metadata": {},
   "outputs": [],
   "source": [
    "#import sys\n",
    "#!{sys.executable} -m pip install <package_name>"
   ]
  },
  {
   "cell_type": "markdown",
   "metadata": {},
   "source": [
    "Set agents quantities to be examined"
   ]
  },
  {
   "cell_type": "code",
   "execution_count": null,
   "metadata": {},
   "outputs": [],
   "source": [
    "agents_quantities = [2,3,4,5]"
   ]
  },
  {
   "cell_type": "markdown",
   "metadata": {},
   "source": [
    "<a name=\"one\"></a>"
   ]
  },
  {
   "cell_type": "markdown",
   "metadata": {},
   "source": [
    "## 1. CREATION OF THE MODELS"
   ]
  },
  {
   "cell_type": "markdown",
   "metadata": {},
   "source": [
    "In this section are created two-param (p,q) and multiparametric models. Detailed description can be found in the paper in Section 2. For all models created in the notebook the bisimulation quotient has been applied. So to speeak, the states (1,0) and (0,1) are equal since the agent are the considered agents are identical. Hence we have merged those states.\n",
    "\n",
    "The difference between synchronous, semisynchronous, and asynchronous models is in two parts of the model:\n",
    "1. first attempt of the agent\n",
    "2. second attempt \n",
    "\n",
    "synchronous models use synchronous semantics in the first attempt so does in the second attempt, these models are purely synchronous and differ from the other models in multiparametric case. \n",
    "\n",
    "asynchronous models use asynchronous semantics in the first attempt so does in the second attempt, these models are NOT purely synchronous as they assume synchronisation of the agents after first attempt! These models are largest and provide multi-affine labelling, hence are usable for STORM model checker. \n",
    "\n",
    "models called semisynchronous use synchronous semantics in the first attempt and asynchronous semantics in the second attempt. These models use synchronous semantics where the agents are independent and provide more precise asynchronous semantic when the order of the action is needed - Example: multiparametric case, two agents attempt second try while 3 agents has already succeeded - the first agent has probability q3 to succeeded, and the second q4 only if the first succeeded. We need more than 1 transition to describe this phenomena."
   ]
  },
  {
   "cell_type": "markdown",
   "metadata": {},
   "source": [
    "## NOT BEE MODEL"
   ]
  },
  {
   "cell_type": "markdown",
   "metadata": {},
   "source": [
    "### Creating models of synchronous two-param models"
   ]
  },
  {
   "cell_type": "code",
   "execution_count": null,
   "metadata": {},
   "outputs": [],
   "source": [
    "from create_models_properties import create_synchronous_model"
   ]
  },
  {
   "cell_type": "code",
   "execution_count": null,
   "metadata": {},
   "outputs": [],
   "source": [
    "for N in agents_quantities:\n",
    "    create_synchronous_model(\"synchronous_\"+str(N),N)"
   ]
  },
  {
   "cell_type": "markdown",
   "metadata": {},
   "source": [
    "### Creating models of semisynchronous two-param models"
   ]
  },
  {
   "cell_type": "code",
   "execution_count": null,
   "metadata": {},
   "outputs": [],
   "source": [
    "from create_models_properties import create_semisynchronous_model"
   ]
  },
  {
   "cell_type": "code",
   "execution_count": null,
   "metadata": {},
   "outputs": [],
   "source": [
    "for N in agents_quantities:\n",
    "    create_semisynchronous_model(\"semisynchronous_\"+str(N),N)"
   ]
  },
  {
   "cell_type": "markdown",
   "metadata": {},
   "source": [
    "### Creating models of asynchronous two-param models"
   ]
  },
  {
   "cell_type": "code",
   "execution_count": null,
   "metadata": {},
   "outputs": [],
   "source": [
    "from create_models_properties import create_asynchronous_model"
   ]
  },
  {
   "cell_type": "code",
   "execution_count": null,
   "metadata": {},
   "outputs": [],
   "source": [
    "for N in agents_quantities:\n",
    "    create_asynchronous_model(\"asynchronous_\"+str(N),N)"
   ]
  },
  {
   "cell_type": "markdown",
   "metadata": {},
   "source": [
    "### Creating models of synchronous multiparam models"
   ]
  },
  {
   "cell_type": "code",
   "execution_count": null,
   "metadata": {},
   "outputs": [],
   "source": [
    "from create_models_properties import create_multiparam_synchronous_model"
   ]
  },
  {
   "cell_type": "code",
   "execution_count": null,
   "metadata": {},
   "outputs": [],
   "source": [
    "for N in agents_quantities:\n",
    "    create_multiparam_synchronous_model(\"multiparam_synchronous_\"+str(N),N)"
   ]
  },
  {
   "cell_type": "markdown",
   "metadata": {},
   "source": [
    "### Creating models of semisynchronous multi-param models"
   ]
  },
  {
   "cell_type": "code",
   "execution_count": null,
   "metadata": {},
   "outputs": [],
   "source": [
    "from create_models_properties import create_multiparam_semisynchronous_model"
   ]
  },
  {
   "cell_type": "code",
   "execution_count": null,
   "metadata": {},
   "outputs": [],
   "source": [
    "for N in agents_quantities:\n",
    "    create_multiparam_semisynchronous_model(\"multiparam_semisynchronous_\"+str(N),N)"
   ]
  },
  {
   "cell_type": "markdown",
   "metadata": {},
   "source": [
    "### Creating models of asynchronous multi-param models"
   ]
  },
  {
   "cell_type": "code",
   "execution_count": null,
   "metadata": {},
   "outputs": [],
   "source": [
    "from create_models_properties import create_multiparam_asynchronous_model"
   ]
  },
  {
   "cell_type": "code",
   "execution_count": null,
   "metadata": {},
   "outputs": [],
   "source": [
    "for N in agents_quantities:\n",
    "    create_multiparam_asynchronous_model(\"multiparam_asynchronous_\"+str(N),N)"
   ]
  },
  {
   "cell_type": "markdown",
   "metadata": {},
   "source": [
    "## BEE MODEL"
   ]
  },
  {
   "cell_type": "markdown",
   "metadata": {},
   "source": [
    "### Creating models of synchronous multi-param models"
   ]
  },
  {
   "cell_type": "code",
   "execution_count": null,
   "metadata": {},
   "outputs": [],
   "source": [
    "from create_models_properties import create_bee_multiparam_synchronous_model"
   ]
  },
  {
   "cell_type": "code",
   "execution_count": null,
   "metadata": {},
   "outputs": [],
   "source": [
    "for N in agents_quantities:\n",
    "    create_bee_multiparam_synchronous_model(\"bee_multiparam_synchronous_\"+str(N),N)"
   ]
  },
  {
   "cell_type": "markdown",
   "metadata": {},
   "source": [
    "### Creating models of semisynchronous multi-param models"
   ]
  },
  {
   "cell_type": "code",
   "execution_count": null,
   "metadata": {},
   "outputs": [],
   "source": [
    "from create_models_properties import create_bee_multiparam_semisynchronous_model"
   ]
  },
  {
   "cell_type": "code",
   "execution_count": null,
   "metadata": {},
   "outputs": [],
   "source": [
    "for N in agents_quantities:\n",
    "    create_bee_multiparam_semisynchronous_model(\"bee_multiparam_semisynchronous_\"+str(N),N)"
   ]
  },
  {
   "cell_type": "markdown",
   "metadata": {},
   "source": [
    "<a name=\"two\"></a>"
   ]
  },
  {
   "cell_type": "markdown",
   "metadata": {},
   "source": [
    "## 2. CREATION OF THE PROPERTIES"
   ]
  },
  {
   "cell_type": "code",
   "execution_count": null,
   "metadata": {},
   "outputs": [],
   "source": [
    "from create_models_properties import create_properties"
   ]
  },
  {
   "cell_type": "code",
   "execution_count": null,
   "metadata": {},
   "outputs": [],
   "source": [
    "for N in agents_quantities:\n",
    "    create_properties(N)"
   ]
  },
  {
   "cell_type": "code",
   "execution_count": null,
   "metadata": {},
   "outputs": [],
   "source": [
    "from create_models_properties import create_rewards_prop"
   ]
  },
  {
   "cell_type": "code",
   "execution_count": null,
   "metadata": {},
   "outputs": [],
   "source": [
    "create_rewards_prop()"
   ]
  },
  {
   "cell_type": "code",
   "execution_count": null,
   "metadata": {},
   "outputs": [],
   "source": []
  }
 ],
 "metadata": {
  "kernelspec": {
   "display_name": "Python 3",
   "language": "python",
   "name": "python3"
  },
  "language_info": {
   "codemirror_mode": {
    "name": "ipython",
    "version": 3
   },
   "file_extension": ".py",
   "mimetype": "text/x-python",
   "name": "python",
   "nbconvert_exporter": "python",
   "pygments_lexer": "ipython3",
   "version": "3.8.1"
  }
 },
 "nbformat": 4,
 "nbformat_minor": 2
}
