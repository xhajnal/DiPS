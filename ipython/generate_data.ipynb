{
 "cells": [
  {
   "cell_type": "markdown",
   "metadata": {},
   "source": [
    "## GENERATE THE DATA"
   ]
  },
  {
   "cell_type": "code",
   "execution_count": null,
   "metadata": {},
   "outputs": [],
   "source": [
    "import numpy, os, sys, subprocess,re"
   ]
  },
  {
   "cell_type": "code",
   "execution_count": null,
   "metadata": {},
   "outputs": [],
   "source": [
    "prism_path = (\"c:/Program Files/prism-4.4/bin\") #windows\n",
    "\n",
    "#prism_path = (\"/home/matej/prism-4.4-linux64/bin\") #Freya\n",
    "\n",
    "#prism_path = '/Users/tatjanapetrov/MYprism-4.4-osx64/bin' # mac@Uni\n",
    "#os.environ['PATH'] = os.environ['PATH']+str(prism_path)"
   ]
  },
  {
   "cell_type": "code",
   "execution_count": null,
   "metadata": {},
   "outputs": [],
   "source": [
    "model_types = [\"synchronous_parallel_\",\"semisynchronous_parallel_\",\"asynchronous_\"]\n",
    "n_samples = [3500,1500,100]\n",
    "populations = [2,3,5,10]\n",
    "dimension_sample_size = 5\n",
    "time_horizon = lambda a : 2*a"
   ]
  },
  {
   "cell_type": "code",
   "execution_count": null,
   "metadata": {},
   "outputs": [],
   "source": [
    "def call_prism(prism_args):\n",
    "    \"\"\"  RUNS prism with given parameters\n",
    "    \n",
    "    Parameters\n",
    "    ----------\n",
    "    args: list of strings -- parameters to run PRISM with\n",
    "    \"\"\"\n",
    "    curr_dir = os.getcwd()\n",
    "    try:\n",
    "        os.chdir(prism_path)\n",
    "        #print(os.getcwd())\n",
    "\n",
    "        if sys.platform.startswith(\"win\"):\n",
    "            args=[\"prism.bat\"]\n",
    "        else:    \n",
    "            args=[\"prism\"]\n",
    "        for i in range(len(prism_args)):\n",
    "            if bool(re.search('\\.[a-z]',prism_args[i])):\n",
    "                prism_args[i] = os.path.join(curr_dir,prism_args[i])   \n",
    "        args.extend(prism_args)\n",
    "        print(args)\n",
    "        output = subprocess.run(args,stdout=subprocess.PIPE,stderr=subprocess.PIPE).stdout.decode(\"utf-8\") \n",
    "        #print(output)   \n",
    "    finally:\n",
    "        os.chdir(curr_dir)"
   ]
  },
  {
   "cell_type": "code",
   "execution_count": null,
   "metadata": {},
   "outputs": [],
   "source": [
    "os.getcwd()"
   ]
  },
  {
   "cell_type": "code",
   "execution_count": null,
   "metadata": {},
   "outputs": [],
   "source": [
    "i=1\n",
    "D={}\n",
    "for model_type in model_types:\n",
    "    for N in populations:\n",
    "        model = model_type+str(N)+\".pm\"\n",
    "        for v_p in numpy.random.uniform(0.0, 1.0,dimension_sample_size):\n",
    "            for v_q in numpy.random.uniform(0.0, 1.0,dimension_sample_size):\n",
    "                for n_sample in n_samples:\n",
    "                    D[(model_type,N,n_sample,v_p,v_q)]=[]\n",
    "                    for sample in range(n_sample):\n",
    "                        if i==1:\n",
    "                            call_prism([model,\"-const\",\"p={},q={}\".format(v_p,v_q),\"-simpath\",str(time_horizon(N)),\"path.txt\"])\n",
    "                            file= open(\"path.txt\", \"rt\")\n",
    "                            last_line = file.readlines()[-1]\n",
    "                            file.close()                      \n",
    "                            D[(model_type,N,n_sample,v_p,v_q)].append(sum( list(map(lambda x: int(x), last_line.split(\" \")[2:-1]))))\n",
    "                        #i=0\n",
    "                    print(D[(model_type,N,n_sample,v_p,v_q)])"
   ]
  },
  {
   "cell_type": "markdown",
   "metadata": {},
   "source": [
    "This notebook has been checked by: \n",
    "\n",
    "`add name here` on `add date here`"
   ]
  }
 ],
 "metadata": {
  "kernelspec": {
   "display_name": "Python 3",
   "language": "python",
   "name": "python3"
  },
  "language_info": {
   "codemirror_mode": {
    "name": "ipython",
    "version": 3
   },
   "file_extension": ".py",
   "mimetype": "text/x-python",
   "name": "python",
   "nbconvert_exporter": "python",
   "pygments_lexer": "ipython3",
   "version": "3.6.4"
  }
 },
 "nbformat": 4,
 "nbformat_minor": 2
}
