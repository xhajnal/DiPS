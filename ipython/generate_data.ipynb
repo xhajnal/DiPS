{
 "cells": [
  {
   "cell_type": "markdown",
   "metadata": {},
   "source": [
    "# Data-informed parameter synthesis for population pDTMCs, notebook 4/6"
   ]
  },
  {
   "cell_type": "markdown",
   "metadata": {},
   "source": [
    "The main part of this notebook is the data generation for the case models by simulating the models.\n",
    "1. [Generate the data](#one)\n",
    "\n",
    "There are four things to be setup in this notebook:\n",
    "1. `agents_quantities` / `populations` - set of agents number to be considered,\n",
    "2. `model_types` - set of model types to be considered,\n",
    "3. `dimension_sample_size` - number of samples per parameter,\n",
    "4. `n_samples` - number of samples hence the number of simulations.\n",
    "\n",
    "The following notebook is: `analysis`"
   ]
  },
  {
   "cell_type": "markdown",
   "metadata": {},
   "source": [
    "<a name=\"one\"></a>"
   ]
  },
  {
   "cell_type": "markdown",
   "metadata": {},
   "source": [
    "## GENERATE THE DATA"
   ]
  },
  {
   "cell_type": "code",
   "execution_count": null,
   "metadata": {},
   "outputs": [],
   "source": [
    "import numpy, os, sys, pickle"
   ]
  },
  {
   "cell_type": "code",
   "execution_count": null,
   "metadata": {},
   "outputs": [],
   "source": [
    "## create a dimension for each parameter\n",
    "default_10dim_param_space = numpy.random.random((10,5))\n",
    "print(default_10dim_param_space)\n",
    "for row in range(len(default_10dim_param_space)):\n",
    "    #print(row)\n",
    "    if row >= 4:\n",
    "        #print(default_10dim_param_space[row])\n",
    "        default_10dim_param_space[row]=numpy.zeros(5)\n",
    "    elif row >= 2:\n",
    "        default_10dim_param_space[row]=default_10dim_param_space[1]\n",
    "print()\n",
    "print(default_10dim_param_space)"
   ]
  },
  {
   "cell_type": "markdown",
   "metadata": {},
   "source": [
    "Here we generate the data by simulating the model:"
   ]
  },
  {
   "cell_type": "code",
   "execution_count": null,
   "metadata": {},
   "outputs": [],
   "source": [
    "from src.generate_data import generate_experiments_and_data, generate_experiments, generate_data"
   ]
  },
  {
   "cell_type": "markdown",
   "metadata": {},
   "source": [
    "## two-param"
   ]
  },
  {
   "cell_type": "code",
   "execution_count": null,
   "metadata": {},
   "outputs": [],
   "source": [
    "multiparam = False\n",
    "model_types = [\"synchronous_parallel_\"]\n",
    "n_samples = [3500,1500,100]\n",
    "populations = [2,3,5,10]\n",
    "dimension_sample_size = 5"
   ]
  },
  {
   "cell_type": "code",
   "execution_count": null,
   "metadata": {},
   "outputs": [],
   "source": [
    "#p_values=[]\n",
    "#for v_p in numpy.random.uniform(0.0, 1.0,dimension_sample_size):\n",
    "#    p_values.append(v_p)\n",
    "#q_values=[]\n",
    "#for v_q in numpy.random.uniform(0.0, 1.0,dimension_sample_size):\n",
    "#    q_values.append(v_q)"
   ]
  },
  {
   "cell_type": "code",
   "execution_count": null,
   "metadata": {},
   "outputs": [],
   "source": [
    "p_values = [0.028502714675268215, 0.45223461506339047, 0.8732745414252937, 0.6855555397734584, 0.13075717833714784]\n",
    "q_values = [0.5057623641293089  , 0.29577906622244676, 0.8440550299528644, 0.8108008054929994, 0.03259111103419188]"
   ]
  },
  {
   "cell_type": "code",
   "execution_count": null,
   "metadata": {},
   "outputs": [],
   "source": [
    "default_2dim_param_space = numpy.zeros((2,5))\n",
    "default_2dim_param_space[0] = p_values\n",
    "default_2dim_param_space[1] = q_values\n",
    "default_2dim_param_space"
   ]
  },
  {
   "cell_type": "code",
   "execution_count": null,
   "metadata": {},
   "outputs": [],
   "source": [
    "# Experiments_two_param, Data_two_param = generate_experiments_and_data(model_types,multiparam,n_samples,populations,dimension_sample_size,default_2dim_param_space)"
   ]
  },
  {
   "cell_type": "code",
   "execution_count": null,
   "metadata": {},
   "outputs": [],
   "source": [
    "multiparam = False\n",
    "model_types = [\"synchronous_parallel_\"]\n",
    "n_samples = [3,2]\n",
    "populations = [2]\n",
    "dimension_sample_size = 4"
   ]
  },
  {
   "cell_type": "code",
   "execution_count": null,
   "metadata": {},
   "outputs": [],
   "source": [
    "Experiments_two_param, Data_two_param = generate_experiments_and_data(model_types,multiparam,n_samples,populations,dimension_sample_size,default_2dim_param_space)"
   ]
  },
  {
   "cell_type": "markdown",
   "metadata": {},
   "source": [
    "This took Freya 6 days to run"
   ]
  },
  {
   "cell_type": "markdown",
   "metadata": {},
   "source": [
    "As you can see this process took a while so we have pickled the data and we load it back"
   ]
  },
  {
   "cell_type": "code",
   "execution_count": null,
   "metadata": {},
   "outputs": [],
   "source": [
    "# pickle.dump( Experiments_two_param,open(os.path.join(data_path,\"Experiments_two_param.p\", \"wb\" )))\n",
    "# pickle.dump(Data_two_param,open(os.path.join(data_path,\"Data_two_param.p\"), \"wb\"))"
   ]
  },
  {
   "cell_type": "code",
   "execution_count": null,
   "metadata": {},
   "outputs": [],
   "source": [
    "Experiments_two_param = pickle.load(open(os.path.join(data_path,\"Experiments_two_param.p\"), \"rb\" ))\n",
    "Data_two_param = pickle.load(open(os.path.join(data_path,\"Data_two_param.p\"), \"rb\" ))"
   ]
  },
  {
   "cell_type": "markdown",
   "metadata": {},
   "source": [
    "## multiparam"
   ]
  },
  {
   "cell_type": "markdown",
   "metadata": {},
   "source": [
    "## Experiments_one_point_step_down_10dim_param_space"
   ]
  },
  {
   "cell_type": "code",
   "execution_count": null,
   "metadata": {},
   "outputs": [],
   "source": [
    "multiparam = True\n",
    "model_types = [\"synchronous_parallel_\"]\n",
    "n_samples = [3500,1500,100]\n",
    "populations = [10]\n",
    "dimension_sample_size = 5"
   ]
  },
  {
   "cell_type": "code",
   "execution_count": null,
   "metadata": {},
   "outputs": [],
   "source": [
    "one_point_step_down_10dim_param_space = numpy.zeros((10,1))\n",
    "for i in range(0,4):\n",
    "    one_point_step_down_10dim_param_space[i] = [0.1]\n",
    "for i in range(4,10):\n",
    "    one_point_step_down_10dim_param_space[i] = [0]\n",
    "one_point_step_down_10dim_param_space"
   ]
  },
  {
   "cell_type": "code",
   "execution_count": null,
   "metadata": {},
   "outputs": [],
   "source": [
    "# Experiments_one_point_step_down_10dim_param_space, Data_one_point_step_down_10dim_param_space = generate_experiments_and_data(model_types,multiparam,n_samples,populations,dimension_sample_size,one_point_step_down_10dim_param_space)"
   ]
  },
  {
   "cell_type": "code",
   "execution_count": null,
   "metadata": {},
   "outputs": [],
   "source": [
    "#pickle.dump( Experiments_one_point_step_down_10dim_param_space,open(os.path.join(data_path,\"Experiments_one_point_step_down_10dim_param_space.p\"), \"wb\" ))\n",
    "#pickle.dump( Data_one_point_step_down_10dim_param_space,open(os.path.join(data_path,\"Data_one_point_step_down_10dim_param_space.p\"), \"wb\" ))"
   ]
  },
  {
   "cell_type": "code",
   "execution_count": null,
   "metadata": {},
   "outputs": [],
   "source": [
    "Experiments_one_point_step_down_10dim_param_space = pickle.load(open(os.path.join(data_path,\"Experiments_one_point_step_down_10dim_param_space.p\"), \"rb\" ))\n",
    "Data_one_point_step_down_10dim_param_space = pickle.load(open(os.path.join(data_path,\"Data_one_point_step_down_10dim_param_space.p\"), \"rb\" ))"
   ]
  },
  {
   "cell_type": "markdown",
   "metadata": {},
   "source": [
    "## linear generations TBD"
   ]
  },
  {
   "cell_type": "code",
   "execution_count": null,
   "metadata": {},
   "outputs": [],
   "source": [
    "multiparam = True\n",
    "model_types = [\"synchronous_parallel_\"]\n",
    "n_samples = [3500,1500,100]\n",
    "populations = [10]\n",
    "dimension_sample_size = 5"
   ]
  },
  {
   "cell_type": "code",
   "execution_count": null,
   "metadata": {},
   "outputs": [],
   "source": [
    "one_point_linear_10dim_param_space  = numpy.zeros((10,1))\n",
    "one_point_linear_10dim_param_space[0] = [0.1]\n",
    "for i in range(1,10):\n",
    "    one_point_linear_10dim_param_space[i] = [0.1 + i*0.5]\n",
    "one_point_linear_10dim_param_space"
   ]
  }
 ],
 "metadata": {
  "kernelspec": {
   "display_name": "Python 3",
   "language": "python",
   "name": "python3"
  },
  "language_info": {
   "codemirror_mode": {
    "name": "ipython",
    "version": 3
   },
   "file_extension": ".py",
   "mimetype": "text/x-python",
   "name": "python",
   "nbconvert_exporter": "python",
   "pygments_lexer": "ipython3",
   "version": "3.6.7"
  }
 },
 "nbformat": 4,
 "nbformat_minor": 2
}
