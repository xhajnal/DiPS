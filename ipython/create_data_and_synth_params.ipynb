{
 "cells": [
  {
   "cell_type": "markdown",
   "metadata": {},
   "source": [
    "# Data-informed parameter synthesis for population pDTMCs, notebook 1"
   ]
  },
  {
   "cell_type": "markdown",
   "metadata": {},
   "source": [
    "This notebook provides two first parts of analysis presented in the paper. \n",
    "1. [Creation of the models](#one)\n",
    "2. [Parameter synthesis using prism](#two)\n",
    "\n",
    "The second two parts are in following notebook.\n",
    "\n",
    "Before running, please add [prism](prismmodelchecker.org) to PATH and check if it runs correctly.\n",
    "\n",
    "There are two things to setup in this notebook:\n",
    "1. `prism_path` - path of prism - in order to import and call the prism properly please set up the paths (e.g. calling the prism outside ),\n",
    "2. `agents_quantities` - set of agents number to be considered - set numbers for which you want to run analysis."
   ]
  },
  {
   "cell_type": "markdown",
   "metadata": {},
   "source": [
    "## IMPORTS, PATHS, and SETTINGS"
   ]
  },
  {
   "cell_type": "markdown",
   "metadata": {},
   "source": [
    "if a package fails to load due to it is not installed please uncomment and use following code with respective package name"
   ]
  },
  {
   "cell_type": "code",
   "execution_count": null,
   "metadata": {},
   "outputs": [],
   "source": [
    "import os,sys"
   ]
  },
  {
   "cell_type": "code",
   "execution_count": null,
   "metadata": {},
   "outputs": [],
   "source": [
    "cwd = os.getcwd()\n",
    "os.getcwd()"
   ]
  },
  {
   "cell_type": "code",
   "execution_count": null,
   "metadata": {},
   "outputs": [],
   "source": [
    "sys.path.append('../')"
   ]
  },
  {
   "cell_type": "code",
   "execution_count": null,
   "metadata": {},
   "outputs": [],
   "source": [
    "#import sys\n",
    "#!{sys.executable} -m pip install <package_name>"
   ]
  },
  {
   "cell_type": "markdown",
   "metadata": {},
   "source": [
    "Set agents quantities to be examined"
   ]
  },
  {
   "cell_type": "code",
   "execution_count": null,
   "metadata": {},
   "outputs": [],
   "source": [
    "agents_quantities = [2,3,5,10]"
   ]
  },
  {
   "cell_type": "markdown",
   "metadata": {},
   "source": [
    "<a name=\"one\"></a>"
   ]
  },
  {
   "cell_type": "markdown",
   "metadata": {},
   "source": [
    "## 1. CREATION OF THE MODELS"
   ]
  },
  {
   "cell_type": "markdown",
   "metadata": {},
   "source": [
    "In this section are created two-param (p,q) and multiparametric models. Detailed description can be found in the paper in Section 2. For all models created in the notebook the bisimulation quotient has been applied. So to speeak, the states (1,0) and (0,1) are equal since the agent are the considered agents are identical. Hence we have merged those states.\n",
    "\n",
    "The difference between synchronous, semisynchronous, and asynchronous models is in two parts of the model:\n",
    "1. first attempt of the agent\n",
    "2. second attempt \n",
    "\n",
    "synchronous models use synchronous semantics in the first attempt so does in the second attempt, these models are purely synchronous and differ from the other models in multiparametric case. \n",
    "\n",
    "asynchronous models use asynchronous semantics in the first attempt so does in the second attempt, these models are NOT purely synchronous as they assume synchronisation of the agents after first attempt! These models are largest and provide multi-affine labelling, hence are usable for STORM model checker. \n",
    "\n",
    "models called semisynchronous use synchronous semantics in the first attempt and asynchronous semantics in the second attempt. These models use synchronous semantics where the agents are independent and provide more precise asynchronous semantic when the order of the action is needed - Example: multiparametric case, two agents attempt second try while 3 agents has already succeeded - the first agent has probability q3 to succeeded, and the second q4 only if the first succeeded. We need more than 1 transition to describe this phenomena."
   ]
  },
  {
   "cell_type": "code",
   "execution_count": null,
   "metadata": {},
   "outputs": [],
   "source": [
    "from src.create_models_props import nCr"
   ]
  },
  {
   "cell_type": "markdown",
   "metadata": {},
   "source": [
    "### Creating models of synchronous two-param models"
   ]
  },
  {
   "cell_type": "code",
   "execution_count": null,
   "metadata": {},
   "outputs": [],
   "source": [
    "from src.create_models_props import create_synchronous_model"
   ]
  },
  {
   "cell_type": "code",
   "execution_count": null,
   "metadata": {},
   "outputs": [],
   "source": [
    "for N in agents_quantities:\n",
    "    create_synchronous_model(\"synchronous_parallel_\"+str(N),N)"
   ]
  },
  {
   "cell_type": "markdown",
   "metadata": {},
   "source": [
    "### Creating models of semisynchronous two-param models"
   ]
  },
  {
   "cell_type": "code",
   "execution_count": null,
   "metadata": {},
   "outputs": [],
   "source": [
    "from src.create_models_props import create_semisynchronous_model"
   ]
  },
  {
   "cell_type": "code",
   "execution_count": null,
   "metadata": {},
   "outputs": [],
   "source": [
    "for N in agents_quantities:\n",
    "    create_semisynchronous_model(\"semisynchronous_parallel_\"+str(N),N)"
   ]
  },
  {
   "cell_type": "markdown",
   "metadata": {},
   "source": [
    "### Creating models of asynchronous two-param models"
   ]
  },
  {
   "cell_type": "code",
   "execution_count": null,
   "metadata": {},
   "outputs": [],
   "source": [
    "from src.create_models_props import create_asynchronous_model"
   ]
  },
  {
   "cell_type": "code",
   "execution_count": null,
   "metadata": {},
   "outputs": [],
   "source": [
    "for N in agents_quantities:\n",
    "    create_asynchronous_model(\"asynchronous_\"+str(N),N)"
   ]
  },
  {
   "cell_type": "markdown",
   "metadata": {},
   "source": [
    "### Creating models of synchronous multiparam models"
   ]
  },
  {
   "cell_type": "code",
   "execution_count": null,
   "metadata": {},
   "outputs": [],
   "source": [
    "from src.create_models_props import create_multiparam_synchronous_model"
   ]
  },
  {
   "cell_type": "code",
   "execution_count": null,
   "metadata": {},
   "outputs": [],
   "source": [
    "for N in agents_quantities:\n",
    "    create_multiparam_synchronous_model(\"multiparam_synchronous_parallel_\"+str(N),N)"
   ]
  },
  {
   "cell_type": "markdown",
   "metadata": {},
   "source": [
    "### Creating models of semisynchronous multi-param models"
   ]
  },
  {
   "cell_type": "code",
   "execution_count": null,
   "metadata": {},
   "outputs": [],
   "source": [
    "from src.create_models_props import create_multiparam_semisynchronous_model"
   ]
  },
  {
   "cell_type": "code",
   "execution_count": null,
   "metadata": {},
   "outputs": [],
   "source": [
    "for N in agents_quantities:\n",
    "    create_multiparam_semisynchronous_model(\"multiparam_semisynchronous_parallel_\"+str(N),N)"
   ]
  },
  {
   "cell_type": "markdown",
   "metadata": {},
   "source": [
    "### Creating models of asynchronous multi-param models"
   ]
  },
  {
   "cell_type": "code",
   "execution_count": null,
   "metadata": {},
   "outputs": [],
   "source": [
    "from src.create_models_props import create_multiparam_asynchronous_model"
   ]
  },
  {
   "cell_type": "code",
   "execution_count": null,
   "metadata": {},
   "outputs": [],
   "source": [
    "for N in agents_quantities:\n",
    "    create_multiparam_asynchronous_model(\"multiparam_asynchronous_\"+str(N),N)"
   ]
  },
  {
   "cell_type": "markdown",
   "metadata": {},
   "source": [
    "### Creating properties files"
   ]
  },
  {
   "cell_type": "code",
   "execution_count": null,
   "metadata": {},
   "outputs": [],
   "source": [
    "from src.create_models_props import create_properties"
   ]
  },
  {
   "cell_type": "code",
   "execution_count": null,
   "metadata": {},
   "outputs": [],
   "source": [
    "for N in agents_quantities:\n",
    "    create_properties(N)"
   ]
  },
  {
   "cell_type": "markdown",
   "metadata": {},
   "source": [
    "<a name=\"two\"></a>"
   ]
  },
  {
   "cell_type": "markdown",
   "metadata": {},
   "source": [
    "## 2. PARAMETER SYNTHESIS"
   ]
  },
  {
   "cell_type": "markdown",
   "metadata": {},
   "source": [
    "In this section parameter synthesis is run and the results of it with the data are loaded.\n",
    "\n",
    "The properties are reachability properties of respective BSCC of the model.\n",
    "\n",
    "The result are rational function, in this case study polynomes over parameter p,q or p,q1,q2... in multipram case."
   ]
  },
  {
   "cell_type": "markdown",
   "metadata": {},
   "source": [
    "### Using PRISM"
   ]
  },
  {
   "cell_type": "code",
   "execution_count": null,
   "metadata": {},
   "outputs": [],
   "source": [
    "from src.mc_prism import call_prism"
   ]
  },
  {
   "cell_type": "markdown",
   "metadata": {},
   "source": [
    "Call prism for all files in dir and Saves result to folder `prism_results`. If error with rounding occurs `-noprobchecks` attribute is added. If Java runs out of nemory prism is called with each property separately. \n",
    "\n",
    "Example: `prism semisynchronous_parallel_2.txt prop_2.pctl -param p=0:1,q=0:1`"
   ]
  },
  {
   "cell_type": "code",
   "execution_count": null,
   "metadata": {},
   "outputs": [],
   "source": [
    "from src.mc_prism import call_prism_files"
   ]
  },
  {
   "cell_type": "markdown",
   "metadata": {},
   "source": [
    "## two-param"
   ]
  },
  {
   "cell_type": "markdown",
   "metadata": {},
   "source": [
    "### Synchronous two-param models"
   ]
  },
  {
   "cell_type": "code",
   "execution_count": null,
   "metadata": {},
   "outputs": [],
   "source": [
    "call_prism_files(\"syn*_\",False,agents_quantities)"
   ]
  },
  {
   "cell_type": "markdown",
   "metadata": {},
   "source": [
    "### Semisynchronous two-param models"
   ]
  },
  {
   "cell_type": "code",
   "execution_count": null,
   "metadata": {
    "scrolled": true
   },
   "outputs": [],
   "source": [
    "call_prism_files(\"semi*_\",False,agents_quantities)"
   ]
  },
  {
   "cell_type": "markdown",
   "metadata": {},
   "source": [
    "### Asynchronous two-param models"
   ]
  },
  {
   "cell_type": "code",
   "execution_count": null,
   "metadata": {},
   "outputs": [],
   "source": [
    "call_prism_files(\"asyn*_\",False,agents_quantities)"
   ]
  },
  {
   "cell_type": "markdown",
   "metadata": {},
   "source": [
    "## three-param"
   ]
  },
  {
   "cell_type": "markdown",
   "metadata": {},
   "source": [
    "### Synchronous three-param models"
   ]
  },
  {
   "cell_type": "code",
   "execution_count": null,
   "metadata": {},
   "outputs": [],
   "source": [
    "for population in agents_quantities:\n",
    "    call_prism(\"linear_synchronous_parallel_{}.pm prop_{}.pctl -param p=0:1,q=0:1,alpha=0:1\".format(population,population),False,False)"
   ]
  },
  {
   "cell_type": "markdown",
   "metadata": {},
   "source": [
    "### Semisynchronous three-param models"
   ]
  },
  {
   "cell_type": "code",
   "execution_count": null,
   "metadata": {},
   "outputs": [],
   "source": [
    "for population in agents_quantities:\n",
    "    call_prism(\"linear_semisynchronous_parallel_{}.pm prop_{}.pctl -param p=0:1,q=0:1,alpha=0:1\".format(population,population),False,False)"
   ]
  },
  {
   "cell_type": "markdown",
   "metadata": {},
   "source": [
    "### Asynchronous three-param models"
   ]
  },
  {
   "cell_type": "code",
   "execution_count": null,
   "metadata": {},
   "outputs": [],
   "source": [
    "for population in agents_quantities:\n",
    "    call_prism(\"linear_asynchronous_parallel_{}.pm prop_{}.pctl -param p=0:1,q=0:1,alpha=0:1\".format(population,population),False,False)"
   ]
  },
  {
   "cell_type": "markdown",
   "metadata": {},
   "source": [
    "## multiparam"
   ]
  },
  {
   "cell_type": "markdown",
   "metadata": {},
   "source": [
    "### Synchronous multiparam models"
   ]
  },
  {
   "cell_type": "code",
   "execution_count": null,
   "metadata": {},
   "outputs": [],
   "source": [
    "call_prism_files(\"multiparam_syn*_\",True,agents_quantities)"
   ]
  },
  {
   "cell_type": "markdown",
   "metadata": {},
   "source": [
    "### Semisynchronous multiparam models"
   ]
  },
  {
   "cell_type": "code",
   "execution_count": null,
   "metadata": {},
   "outputs": [],
   "source": [
    "call_prism_files(\"multiparam_se*_\",True,agents_quantities)"
   ]
  },
  {
   "cell_type": "markdown",
   "metadata": {},
   "source": [
    "### Asynchronous multiparam models"
   ]
  },
  {
   "cell_type": "code",
   "execution_count": null,
   "metadata": {},
   "outputs": [],
   "source": [
    "call_prism_files(\"multiparam_a*_\",True,agents_quantities)"
   ]
  },
  {
   "cell_type": "markdown",
   "metadata": {},
   "source": [
    "All models and properties created, parameter synthesis for all models is done, please follow notebook **Analysis**."
   ]
  }
 ],
 "metadata": {
  "kernelspec": {
   "display_name": "Python 3",
   "language": "python",
   "name": "python3"
  },
  "language_info": {
   "codemirror_mode": {
    "name": "ipython",
    "version": 3
   },
   "file_extension": ".py",
   "mimetype": "text/x-python",
   "name": "python",
   "nbconvert_exporter": "python",
   "pygments_lexer": "ipython3",
   "version": "3.6.7"
  }
 },
 "nbformat": 4,
 "nbformat_minor": 2
}
