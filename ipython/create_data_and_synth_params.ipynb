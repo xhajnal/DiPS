{
 "cells": [
  {
   "cell_type": "markdown",
   "metadata": {},
   "source": [
    "# Data-informed parameter synthesis for population Markov chains, notebook1"
   ]
  },
  {
   "cell_type": "markdown",
   "metadata": {},
   "source": [
    "This notebook provides two first parts of analysis presented in the paper. \n",
    "1. [Creation of the models](#one)\n",
    "2. [Parameter synthesis using prism](#two)\n",
    "\n",
    "The second two parts are in following notebook.\n",
    "\n",
    "Before running, please add [prism](prismmodelchecker.org) to PATH and check if it runs correctly.\n",
    "\n",
    "There are 4 things to setup in the notebook:\n",
    "1. `prism_path` -- path of prism - in order to import and call the prism properly please set up the paths (e.g. calling the prism outside )\n",
    "2. `agents_quantities` -- set of agents number to be considered - set numbers for which you want to run analysis"
   ]
  },
  {
   "cell_type": "markdown",
   "metadata": {},
   "source": [
    "## IMPORTS, PATHS, and SETTINGS"
   ]
  },
  {
   "cell_type": "markdown",
   "metadata": {},
   "source": [
    "if a package fails to load due to it is not installed please uncomment and use following code with respective package name"
   ]
  },
  {
   "cell_type": "code",
   "execution_count": 1,
   "metadata": {},
   "outputs": [],
   "source": [
    "import os"
   ]
  },
  {
   "cell_type": "code",
   "execution_count": 2,
   "metadata": {},
   "outputs": [],
   "source": [
    "agents_quantities = [2,3,5,10]"
   ]
  },
  {
   "cell_type": "code",
   "execution_count": null,
   "metadata": {},
   "outputs": [],
   "source": []
  },
  {
   "cell_type": "code",
   "execution_count": null,
   "metadata": {},
   "outputs": [],
   "source": []
  },
  {
   "cell_type": "code",
   "execution_count": null,
   "metadata": {},
   "outputs": [],
   "source": []
  },
  {
   "cell_type": "code",
   "execution_count": 1,
   "metadata": {},
   "outputs": [],
   "source": [
    "#import sys\n",
    "#!{sys.executable} -m pip install <package_name>"
   ]
  },
  {
   "cell_type": "code",
   "execution_count": 2,
   "metadata": {},
   "outputs": [
    {
     "name": "stdout",
     "output_type": "stream",
     "text": [
      "You are running 64bit Python, please verify that installed z3 is compatible\n"
     ]
    }
   ],
   "source": [
    "import struct\n",
    "print(\"You are running \"+ str(struct.calcsize(\"P\") * 8)+\"bit Python, please verify that installed z3 is compatible\")"
   ]
  },
  {
   "cell_type": "code",
   "execution_count": 3,
   "metadata": {},
   "outputs": [],
   "source": [
    "#imports evaluation\n",
    "import time"
   ]
  },
  {
   "cell_type": "code",
   "execution_count": 4,
   "metadata": {},
   "outputs": [],
   "source": [
    "#imports for creation of models\n",
    "import math\n",
    "import sys"
   ]
  },
  {
   "cell_type": "code",
   "execution_count": 5,
   "metadata": {},
   "outputs": [],
   "source": [
    "#imports for running prism\n",
    "import glob, os\n",
    "import subprocess\n",
    "import re"
   ]
  },
  {
   "cell_type": "code",
   "execution_count": 6,
   "metadata": {},
   "outputs": [],
   "source": [
    "# import enhaced print\n",
    "import socket"
   ]
  },
  {
   "cell_type": "code",
   "execution_count": 7,
   "metadata": {},
   "outputs": [],
   "source": [
    "cwd = os.getcwd()"
   ]
  },
  {
   "cell_type": "code",
   "execution_count": 8,
   "metadata": {},
   "outputs": [
    {
     "data": {
      "text/plain": [
       "'D:\\\\Git\\\\hsb2019\\\\code'"
      ]
     },
     "execution_count": 8,
     "metadata": {},
     "output_type": "execute_result"
    }
   ],
   "source": [
    "os.getcwd()"
   ]
  },
  {
   "cell_type": "markdown",
   "metadata": {},
   "source": [
    "Set path for prism"
   ]
  },
  {
   "cell_type": "code",
   "execution_count": 9,
   "metadata": {},
   "outputs": [],
   "source": [
    "prism_path = (\"c:/Program Files/prism-4.4/bin\") #windows\n",
    "\n",
    "#prism_path = (\"/home/matej/prism-4.4-linux64/bin\") #Freya\n",
    "\n",
    "#prism_path = '/Users/tatjanapetrov/MYprism-4.4-osx64/bin' # mac@Uni\n",
    "#os.environ['PATH'] = os.environ['PATH']+str(prism_path)"
   ]
  },
  {
   "cell_type": "markdown",
   "metadata": {},
   "source": [
    "Checking if the prism in the PATH"
   ]
  },
  {
   "cell_type": "code",
   "execution_count": 10,
   "metadata": {},
   "outputs": [],
   "source": [
    "if \"prism\" not in os.environ[\"PATH\"]:\n",
    "    print(\"prism was probably not in PATH, adding it there\")\n",
    "    if \"wind\" in platform.system().lower():\n",
    "        os.environ[\"PATH\"] = os.environ[\"PATH\"]+\";\"+prism_path\n",
    "    else:\n",
    "        os.environ[\"PATH\"] = os.environ[\"PATH\"]+\":\"+prism_path"
   ]
  },
  {
   "cell_type": "markdown",
   "metadata": {},
   "source": [
    "Set agents quantities to be examined"
   ]
  },
  {
   "cell_type": "code",
   "execution_count": 3,
   "metadata": {},
   "outputs": [],
   "source": [
    "agents_quantities = [2,3,5,10]"
   ]
  },
  {
   "cell_type": "markdown",
   "metadata": {},
   "source": [
    "<a name=\"one\"></a>"
   ]
  },
  {
   "cell_type": "markdown",
   "metadata": {},
   "source": [
    "## 1. CREATION OF THE MODELS"
   ]
  },
  {
   "cell_type": "markdown",
   "metadata": {},
   "source": [
    "In this section are created two-param (p,q) and multiparametric models. Detailed description can be found in the paper in Section 2. For all models created in the notebook the bisimulation quotient has been applied. So to speeak, the states (1,0) and (0,1) are equal since the agent are the considered agents are identical. Hence we have merged those states.\n",
    "\n",
    "The difference between synchronous, semisynchronous, and asynchronous models is in two parts of the model:\n",
    "1. first attempt of the agent\n",
    "2. second attempt \n",
    "\n",
    "synchronous models use synchronous semantics in the first attempt so does in the second attempt, these models are purely synchronous and differ from the other models in multiparametric case. \n",
    "\n",
    "asynchronous models use asynchronous semantics in the first attempt so does in the second attempt, these models are NOT purely synchronous as they assume synchronisation of the agents after first attempt! These models are largest and provide multi-affine labelling, hence are usable for STORM model checker. \n",
    "\n",
    "models called semisynchronous use synchronous semantics in the first attempt and asynchronous semantics in the second attempt. These models use synchronous semantics where the agents are independent and provide more precise asynchronous semantic when the order of the action is needed - Example: multiparametric case, two agents attempt second try while 3 agents has already succeeded - the first agent has probability q3 to succeeded, and the second q4 only if the first succeeded. We need more than 1 transition to describe this phenomena."
   ]
  },
  {
   "cell_type": "code",
   "execution_count": 3,
   "metadata": {},
   "outputs": [],
   "source": [
    "from src.create_models_props import nCr"
   ]
  },
  {
   "cell_type": "markdown",
   "metadata": {},
   "source": [
    "### Creating models of synchronous two-param models"
   ]
  },
  {
   "cell_type": "code",
   "execution_count": 6,
   "metadata": {},
   "outputs": [],
   "source": [
    "from src.create_models_props import create_synchronous_model"
   ]
  },
  {
   "cell_type": "code",
   "execution_count": 7,
   "metadata": {},
   "outputs": [
    {
     "name": "stdout",
     "output_type": "stream",
     "text": [
      "synchronous_parallel_2\n",
      "synchronous_parallel_3\n",
      "synchronous_parallel_5\n",
      "synchronous_parallel_10\n"
     ]
    }
   ],
   "source": [
    "for N in agents_quantities:\n",
    "    create_synchronous_model(\"synchronous_parallel_\"+str(N),N)"
   ]
  },
  {
   "cell_type": "markdown",
   "metadata": {},
   "source": [
    "### Creating models of semisynchronous two-param models"
   ]
  },
  {
   "cell_type": "code",
   "execution_count": 8,
   "metadata": {},
   "outputs": [],
   "source": [
    "from src.create_models_props import create_semisynchronous_model"
   ]
  },
  {
   "cell_type": "code",
   "execution_count": 9,
   "metadata": {},
   "outputs": [
    {
     "name": "stdout",
     "output_type": "stream",
     "text": [
      "semisynchronous_parallel_2\n",
      "semisynchronous_parallel_3\n",
      "semisynchronous_parallel_5\n",
      "semisynchronous_parallel_10\n"
     ]
    }
   ],
   "source": [
    "for N in agents_quantities:\n",
    "    create_semisynchronous_model(\"semisynchronous_parallel_\"+str(N),N)"
   ]
  },
  {
   "cell_type": "markdown",
   "metadata": {},
   "source": [
    "### Creating models of asynchronous two-param models"
   ]
  },
  {
   "cell_type": "code",
   "execution_count": 10,
   "metadata": {},
   "outputs": [],
   "source": [
    "from src.create_models_props import create_asynchronous_model"
   ]
  },
  {
   "cell_type": "code",
   "execution_count": 11,
   "metadata": {},
   "outputs": [
    {
     "name": "stdout",
     "output_type": "stream",
     "text": [
      "asynchronous_2\n",
      "asynchronous_3\n",
      "asynchronous_5\n",
      "asynchronous_10\n"
     ]
    }
   ],
   "source": [
    "for N in agents_quantities:\n",
    "    create_asynchronous_model(\"asynchronous_\"+str(N),N)"
   ]
  },
  {
   "cell_type": "markdown",
   "metadata": {},
   "source": [
    "### Creating models of synchronous multiparam models"
   ]
  },
  {
   "cell_type": "code",
   "execution_count": 12,
   "metadata": {},
   "outputs": [],
   "source": [
    "from src.create_models_props import create_multiparam_synchronous_model"
   ]
  },
  {
   "cell_type": "code",
   "execution_count": 13,
   "metadata": {},
   "outputs": [
    {
     "name": "stdout",
     "output_type": "stream",
     "text": [
      "multiparam_synchronous_parallel_2\n",
      "multiparam_synchronous_parallel_3\n",
      "multiparam_synchronous_parallel_5\n",
      "multiparam_synchronous_parallel_10\n"
     ]
    }
   ],
   "source": [
    "for N in agents_quantities:\n",
    "    create_multiparam_synchronous_model(\"multiparam_synchronous_parallel_\"+str(N),N)"
   ]
  },
  {
   "cell_type": "markdown",
   "metadata": {},
   "source": [
    "### Creating models of semisynchronous multi-param models"
   ]
  },
  {
   "cell_type": "code",
   "execution_count": 14,
   "metadata": {},
   "outputs": [],
   "source": [
    "from src.create_models_props import create_multiparam_semisynchronous_model"
   ]
  },
  {
   "cell_type": "code",
   "execution_count": 15,
   "metadata": {},
   "outputs": [
    {
     "name": "stdout",
     "output_type": "stream",
     "text": [
      "multiparam_semisynchronous_parallel_2\n",
      "multiparam_semisynchronous_parallel_3\n",
      "multiparam_semisynchronous_parallel_5\n",
      "multiparam_semisynchronous_parallel_10\n"
     ]
    }
   ],
   "source": [
    "for N in agents_quantities:\n",
    "    create_multiparam_semisynchronous_model(\"multiparam_semisynchronous_parallel_\"+str(N),N)"
   ]
  },
  {
   "cell_type": "markdown",
   "metadata": {},
   "source": [
    "### Creating models of asynchronous multi-param models"
   ]
  },
  {
   "cell_type": "code",
   "execution_count": 16,
   "metadata": {},
   "outputs": [],
   "source": [
    "from src.create_models_props import create_multiparam_asynchronous_model"
   ]
  },
  {
   "cell_type": "code",
   "execution_count": 17,
   "metadata": {},
   "outputs": [
    {
     "name": "stdout",
     "output_type": "stream",
     "text": [
      "multiparam_asynchronous_2\n",
      "multiparam_asynchronous_3\n",
      "multiparam_asynchronous_5\n",
      "multiparam_asynchronous_10\n"
     ]
    }
   ],
   "source": [
    "for N in agents_quantities:\n",
    "    create_multiparam_asynchronous_model(\"multiparam_asynchronous_\"+str(N),N)"
   ]
  },
  {
   "cell_type": "markdown",
   "metadata": {},
   "source": [
    "### Creating properties files"
   ]
  },
  {
   "cell_type": "code",
   "execution_count": 18,
   "metadata": {},
   "outputs": [],
   "source": [
    "from src.create_models_props import create_properties"
   ]
  },
  {
   "cell_type": "code",
   "execution_count": 19,
   "metadata": {},
   "outputs": [
    {
     "name": "stdout",
     "output_type": "stream",
     "text": [
      "prop_2\n",
      "prop_3\n",
      "prop_5\n",
      "prop_10\n"
     ]
    }
   ],
   "source": [
    "for N in agents_quantities:\n",
    "    create_properties(N)"
   ]
  },
  {
   "cell_type": "markdown",
   "metadata": {},
   "source": [
    "<a name=\"two\"></a>"
   ]
  },
  {
   "cell_type": "markdown",
   "metadata": {},
   "source": [
    "## 2. PARAMETER SYNTHESIS"
   ]
  },
  {
   "cell_type": "markdown",
   "metadata": {},
   "source": [
    "In this section parameter synthesis is run and the results of it with the data are loaded.\n",
    "\n",
    "The properties are reachability properties of respective BSCC of the model.\n",
    "\n",
    "The result are rational function, in this case study polynomes over parameter p,q or p,q1,q2... in multipram case."
   ]
  },
  {
   "cell_type": "code",
   "execution_count": 21,
   "metadata": {},
   "outputs": [],
   "source": [
    "os.mkdir(\"prism_results\")"
   ]
  },
  {
   "cell_type": "code",
   "execution_count": 22,
   "metadata": {},
   "outputs": [
    {
     "data": {
      "text/plain": [
       "'C:\\\\Users\\\\xhajnal\\\\Documents\\\\GitHub\\\\mpm\\\\ipython'"
      ]
     },
     "execution_count": 22,
     "metadata": {},
     "output_type": "execute_result"
    }
   ],
   "source": [
    "os.getcwd()"
   ]
  },
  {
   "cell_type": "markdown",
   "metadata": {},
   "source": [
    "### Using PRISM"
   ]
  },
  {
   "cell_type": "code",
   "execution_count": 24,
   "metadata": {},
   "outputs": [],
   "source": [
    "from src.mc_prism import call_prism"
   ]
  },
  {
   "cell_type": "markdown",
   "metadata": {},
   "source": [
    "Call prism for all files in dir and Saves result to folder `prism_results`. If error with rounding occurs `-noprobchecks` attribute is added. If Java runs out of nemory prism is called with each property separately. \n",
    "\n",
    "Example: `prism semisynchronous_parallel_2.txt prop_2.pctl -param p=0:1,q=0:1`"
   ]
  },
  {
   "cell_type": "code",
   "execution_count": 3,
   "metadata": {},
   "outputs": [],
   "source": [
    "from src.mc_prism import call_prism_files"
   ]
  },
  {
   "cell_type": "markdown",
   "metadata": {},
   "source": [
    "### Parameter synthesis of synchronous two_param models"
   ]
  },
  {
   "cell_type": "code",
   "execution_count": 4,
   "metadata": {},
   "outputs": [
    {
     "name": "stdout",
     "output_type": "stream",
     "text": [
      "synchronous_parallel_2.pm seq=False\n"
     ]
    },
    {
     "ename": "NameError",
     "evalue": "name 'prism_path' is not defined",
     "output_type": "error",
     "traceback": [
      "\u001b[1;31m---------------------------------------------------------------------------\u001b[0m",
      "\u001b[1;31mNameError\u001b[0m                                 Traceback (most recent call last)",
      "\u001b[1;32m<ipython-input-4-d36a34883bdc>\u001b[0m in \u001b[0;36m<module>\u001b[1;34m\u001b[0m\n\u001b[1;32m----> 1\u001b[1;33m \u001b[0mcall_prism_files\u001b[0m\u001b[1;33m(\u001b[0m\u001b[1;34m\"syn*_\"\u001b[0m\u001b[1;33m,\u001b[0m\u001b[1;32mFalse\u001b[0m\u001b[1;33m,\u001b[0m\u001b[0magents_quantities\u001b[0m\u001b[1;33m)\u001b[0m\u001b[1;33m\u001b[0m\u001b[0m\n\u001b[0m",
      "\u001b[1;32m~\\Documents\\GitHub\\mpm\\ipython\\src\\mc_prism.py\u001b[0m in \u001b[0;36mcall_prism_files\u001b[1;34m(file_prefix, multiparam, agents_quantities, seq, noprobchecks)\u001b[0m\n\u001b[0;32m     80\u001b[0m                 \u001b[0mq\u001b[0m\u001b[1;33m=\u001b[0m\u001b[1;34m\",q=0:1\"\u001b[0m\u001b[1;33m\u001b[0m\u001b[0m\n\u001b[0;32m     81\u001b[0m             \u001b[1;31m#print(\"{} prop_{}.pctl {}-param p=0:1{}\".format(file,N,noprobchecks,q))\u001b[0m\u001b[1;33m\u001b[0m\u001b[1;33m\u001b[0m\u001b[0m\n\u001b[1;32m---> 82\u001b[1;33m             \u001b[0mcall_prism\u001b[0m\u001b[1;33m(\u001b[0m\u001b[1;34m\"{} prop_{}.pctl {}-param p=0:1{}\"\u001b[0m\u001b[1;33m.\u001b[0m\u001b[0mformat\u001b[0m\u001b[1;33m(\u001b[0m\u001b[0mfile\u001b[0m\u001b[1;33m,\u001b[0m\u001b[0mN\u001b[0m\u001b[1;33m,\u001b[0m\u001b[0mnoprobchecks\u001b[0m\u001b[1;33m,\u001b[0m\u001b[0mq\u001b[0m\u001b[1;33m)\u001b[0m\u001b[1;33m,\u001b[0m \u001b[0mseq\u001b[0m\u001b[1;33m)\u001b[0m\u001b[1;33m\u001b[0m\u001b[0m\n\u001b[0m\u001b[0;32m     83\u001b[0m             \u001b[1;32mif\u001b[0m \u001b[1;32mnot\u001b[0m \u001b[0mseq\u001b[0m\u001b[1;33m:\u001b[0m\u001b[1;33m\u001b[0m\u001b[0m\n\u001b[0;32m     84\u001b[0m                 \u001b[1;31m#if 'GC overhead' in tailhead.tail(open('prism_results/{}.txt'.format(file.split('.')[0])),40).read():\u001b[0m\u001b[1;33m\u001b[0m\u001b[1;33m\u001b[0m\u001b[0m\n",
      "\u001b[1;32m~\\Documents\\GitHub\\mpm\\ipython\\src\\mc_prism.py\u001b[0m in \u001b[0;36mcall_prism\u001b[1;34m(args, seq)\u001b[0m\n\u001b[0;32m     12\u001b[0m     \u001b[0mfilename\u001b[0m \u001b[1;33m=\u001b[0m \u001b[0mos\u001b[0m\u001b[1;33m.\u001b[0m\u001b[0mpath\u001b[0m\u001b[1;33m.\u001b[0m\u001b[0mjoin\u001b[0m\u001b[1;33m(\u001b[0m\u001b[1;34m\"prism_results\"\u001b[0m\u001b[1;33m,\u001b[0m\u001b[0mfilename\u001b[0m\u001b[1;33m)\u001b[0m\u001b[1;33m\u001b[0m\u001b[0m\n\u001b[0;32m     13\u001b[0m     \u001b[0mcurr_dir\u001b[0m \u001b[1;33m=\u001b[0m \u001b[0mos\u001b[0m\u001b[1;33m.\u001b[0m\u001b[0mgetcwd\u001b[0m\u001b[1;33m(\u001b[0m\u001b[1;33m)\u001b[0m\u001b[1;33m\u001b[0m\u001b[0m\n\u001b[1;32m---> 14\u001b[1;33m     \u001b[0mos\u001b[0m\u001b[1;33m.\u001b[0m\u001b[0mchdir\u001b[0m\u001b[1;33m(\u001b[0m\u001b[0mprism_path\u001b[0m\u001b[1;33m)\u001b[0m\u001b[1;33m\u001b[0m\u001b[0m\n\u001b[0m\u001b[0;32m     15\u001b[0m     \u001b[1;31m#print(os.getcwd())\u001b[0m\u001b[1;33m\u001b[0m\u001b[1;33m\u001b[0m\u001b[0m\n\u001b[0;32m     16\u001b[0m     \u001b[0mprism_args\u001b[0m \u001b[1;33m=\u001b[0m \u001b[1;33m[\u001b[0m\u001b[1;33m]\u001b[0m\u001b[1;33m\u001b[0m\u001b[0m\n",
      "\u001b[1;31mNameError\u001b[0m: name 'prism_path' is not defined"
     ]
    }
   ],
   "source": [
    "call_prism_files(\"syn*_\",False,agents_quantities)"
   ]
  },
  {
   "cell_type": "markdown",
   "metadata": {},
   "source": [
    "### Parameter synthesis of semisynchronous two_param models"
   ]
  },
  {
   "cell_type": "code",
   "execution_count": 119,
   "metadata": {
    "scrolled": true
   },
   "outputs": [
    {
     "name": "stdout",
     "output_type": "stream",
     "text": [
      "semisynchronous_parallel_2.pm seq=False\n",
      "  It took Thunder 2.300849199295044 seconds to run\n",
      "semisynchronous_parallel_3.pm seq=False\n",
      "  It took Thunder 2.2050530910491943 seconds to run\n",
      "semisynchronous_parallel_5.pm seq=False\n",
      "  It took Thunder 2.1482558250427246 seconds to run\n",
      "semisynchronous_parallel_10.pm seq=False\n",
      "  It took Thunder 2.1563894748687744 seconds to run\n"
     ]
    }
   ],
   "source": [
    "call_prism_files(\"semi*_\",False)"
   ]
  },
  {
   "cell_type": "markdown",
   "metadata": {},
   "source": [
    "### Parameter synthesis of asynchronous two_param models"
   ]
  },
  {
   "cell_type": "code",
   "execution_count": 120,
   "metadata": {},
   "outputs": [
    {
     "name": "stdout",
     "output_type": "stream",
     "text": [
      "asynchronous_2.pm seq=False\n",
      "  It took Thunder 2.3576972484588623 seconds to run\n",
      "asynchronous_3.pm seq=False\n",
      "  It took Thunder 2.172189474105835 seconds to run\n",
      "asynchronous_5.pm seq=False\n",
      "  It took Thunder 2.423518657684326 seconds to run\n",
      "asynchronous_10.pm seq=False\n",
      "  It took Thunder 2.5880792140960693 seconds to run\n"
     ]
    }
   ],
   "source": [
    "call_prism_files(\"asyn*_\",False)"
   ]
  },
  {
   "cell_type": "markdown",
   "metadata": {},
   "source": [
    "### Parameter synthesis of synchronous multiparam models"
   ]
  },
  {
   "cell_type": "code",
   "execution_count": 136,
   "metadata": {},
   "outputs": [
    {
     "name": "stdout",
     "output_type": "stream",
     "text": [
      "multiparam_synchronous_parallel_2.pm seq=False\n",
      "  It took Thunder 2.142266035079956 seconds to run\n",
      "multiparam_synchronous_parallel_3.pm seq=False\n",
      "  It took Thunder 2.1333208084106445 seconds to run\n",
      "multiparam_synchronous_parallel_5.pm seq=False\n",
      "  It took Thunder 2.134281873703003 seconds to run\n",
      "multiparam_synchronous_parallel_10.pm seq=False\n",
      "  It took Thunder 2.157231092453003 seconds to run\n"
     ]
    }
   ],
   "source": [
    "call_prism_files(\"multiparam_syn*_\",True)"
   ]
  },
  {
   "cell_type": "markdown",
   "metadata": {},
   "source": [
    "### Parameter synthesis of semisynchronous multiparam models"
   ]
  },
  {
   "cell_type": "code",
   "execution_count": 122,
   "metadata": {},
   "outputs": [
    {
     "name": "stdout",
     "output_type": "stream",
     "text": [
      "multiparam_semisynchronous_parallel_2.pm seq=False\n",
      "  It took Thunder 2.14426326751709 seconds to run\n",
      "multiparam_semisynchronous_parallel_3.pm seq=False\n",
      "  It took Thunder 2.131301164627075 seconds to run\n",
      "multiparam_semisynchronous_parallel_5.pm seq=False\n",
      "  It took Thunder 2.1512391567230225 seconds to run\n",
      "multiparam_semisynchronous_parallel_10.pm seq=False\n",
      "  It took Thunder 2.322788953781128 seconds to run\n"
     ]
    }
   ],
   "source": [
    "call_prism_files(\"multiparam_se*_\",True)"
   ]
  },
  {
   "cell_type": "markdown",
   "metadata": {},
   "source": [
    "### Parameter synthesis of asynchronous multiparam models"
   ]
  },
  {
   "cell_type": "code",
   "execution_count": 123,
   "metadata": {},
   "outputs": [
    {
     "name": "stdout",
     "output_type": "stream",
     "text": [
      "multiparam_asynchronous_2.pm seq=False\n",
      "  It took Thunder 2.178176164627075 seconds to run\n",
      "multiparam_asynchronous_3.pm seq=False\n",
      "  It took Thunder 2.2250471115112305 seconds to run\n",
      "multiparam_asynchronous_5.pm seq=False\n",
      "  It took Thunder 2.1782054901123047 seconds to run\n",
      "multiparam_asynchronous_10.pm seq=False\n",
      "  It took Thunder 6.811779737472534 seconds to run\n"
     ]
    }
   ],
   "source": [
    "call_prism_files(\"multiparam_a*_\",True)"
   ]
  },
  {
   "cell_type": "markdown",
   "metadata": {},
   "source": [
    "All models and properties created, parameter synthesis for all models is done, please follow notebook **Analysis**."
   ]
  }
 ],
 "metadata": {
  "kernelspec": {
   "display_name": "Python 3",
   "language": "python",
   "name": "python3"
  },
  "language_info": {
   "codemirror_mode": {
    "name": "ipython",
    "version": 3
   },
   "file_extension": ".py",
   "mimetype": "text/x-python",
   "name": "python",
   "nbconvert_exporter": "python",
   "pygments_lexer": "ipython3",
   "version": "3.6.4"
  }
 },
 "nbformat": 4,
 "nbformat_minor": 2
}
