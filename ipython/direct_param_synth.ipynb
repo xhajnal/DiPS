{
 "cells": [
  {
   "cell_type": "markdown",
   "metadata": {},
   "source": [
    "# Data-informed parameter synthesis for population pDTMCs, notebook 3"
   ]
  },
  {
   "cell_type": "markdown",
   "metadata": {},
   "source": [
    "This notebook provides main part of analysis presented in the paper - Data-informed parameter synthesis. It consists of these parts:\n",
    "1. [Load Parameter synthesis results](#one)\n",
    "2. [Direct parameter synthesis via Storm and PRISM](#two)\n",
    "\n",
    "Before running, please add [Z3](https://github.com/Z3Prover/z3) to PATH and check if it runs correctly.\n",
    "\n",
    "There are three things to setup in this notebook:\n",
    "1. `agents_quantities` -- set of agents number to be considered - set numbers for which you want to run analysis,\n",
    "2. `alpha` and `n_samples`  to set the margin of the data -  `margin(alpha, n_samples, data)`,\n",
    "3. `n` and `epsilon` in `check_deeper(thresh,prop,data,a,b,n,epsilon)` -- thresholds used in parameter space division."
   ]
  },
  {
   "cell_type": "markdown",
   "metadata": {},
   "source": [
    "## IMPORTS, PATHS, and SETTINGS"
   ]
  },
  {
   "cell_type": "markdown",
   "metadata": {},
   "source": [
    "if a package fails to load due to it is not installed please uncomment and use following code with respective package name"
   ]
  },
  {
   "cell_type": "code",
   "execution_count": null,
   "metadata": {},
   "outputs": [],
   "source": [
    "#import sys\n",
    "#!{sys.executable} -m pip install <package_name>"
   ]
  },
  {
   "cell_type": "code",
   "execution_count": null,
   "metadata": {},
   "outputs": [],
   "source": [
    "import os,sys"
   ]
  },
  {
   "cell_type": "code",
   "execution_count": null,
   "metadata": {},
   "outputs": [],
   "source": [
    "os.getcwd()"
   ]
  },
  {
   "cell_type": "code",
   "execution_count": null,
   "metadata": {},
   "outputs": [],
   "source": [
    "cwd = os.getcwd()\n",
    "os.chdir(\"..\")\n",
    "sys.path.append(os.getcwd())\n",
    "os.chdir(cwd)"
   ]
  },
  {
   "cell_type": "markdown",
   "metadata": {},
   "source": [
    "Set agents quantities to be examined"
   ]
  },
  {
   "cell_type": "code",
   "execution_count": null,
   "metadata": {},
   "outputs": [],
   "source": [
    "agents_quantities = [2,3,5,10]"
   ]
  },
  {
   "cell_type": "markdown",
   "metadata": {},
   "source": [
    "<a name=\"one\"></a>"
   ]
  },
  {
   "cell_type": "markdown",
   "metadata": {},
   "source": [
    "## 1. LOADING OF DATA"
   ]
  },
  {
   "cell_type": "markdown",
   "metadata": {},
   "source": [
    "### DATA LOADING"
   ]
  },
  {
   "cell_type": "markdown",
   "metadata": {},
   "source": [
    "The data we are about to load are in a form data points for given N and number of successes, hence they match already loaded f dictionaries. \n",
    "\n",
    "They can be seen as a points of the polynomials."
   ]
  },
  {
   "cell_type": "code",
   "execution_count": null,
   "metadata": {},
   "outputs": [],
   "source": [
    "from src.load import load_all_data"
   ]
  },
  {
   "cell_type": "markdown",
   "metadata": {},
   "source": [
    "Load data"
   ]
  },
  {
   "cell_type": "code",
   "execution_count": null,
   "metadata": {},
   "outputs": [],
   "source": [
    "D = load_all_data(\"data/data*.csv\")"
   ]
  },
  {
   "cell_type": "code",
   "execution_count": null,
   "metadata": {},
   "outputs": [],
   "source": [
    "D_multiparam = load_all_data(\"data/multiparametric/data*.csv\")"
   ]
  },
  {
   "cell_type": "code",
   "execution_count": null,
   "metadata": {},
   "outputs": [],
   "source": [
    "D2 = load_all_data(\"data_1/data*.csv\")"
   ]
  },
  {
   "cell_type": "code",
   "execution_count": null,
   "metadata": {},
   "outputs": [],
   "source": [
    "D2_multiparam = load_all_data(\"data_1/multiparametric/data*.csv\")"
   ]
  },
  {
   "cell_type": "markdown",
   "metadata": {},
   "source": [
    "### showing loaded data"
   ]
  },
  {
   "cell_type": "markdown",
   "metadata": {},
   "source": [
    "An example of function and data for number of agents N=2 and number of successes i=1"
   ]
  },
  {
   "cell_type": "code",
   "execution_count": null,
   "metadata": {
    "scrolled": true
   },
   "outputs": [],
   "source": [
    "D[2][1] "
   ]
  },
  {
   "cell_type": "markdown",
   "metadata": {},
   "source": [
    "Catch data errors (subzero values)"
   ]
  },
  {
   "cell_type": "code",
   "execution_count": null,
   "metadata": {},
   "outputs": [],
   "source": [
    "from src.load import catch_data_error"
   ]
  },
  {
   "cell_type": "code",
   "execution_count": null,
   "metadata": {},
   "outputs": [],
   "source": [
    "catch_data_error(D,0,1) \n",
    "catch_data_error(D2,0,1) \n",
    "catch_data_error(D_multiparam,0,1) \n",
    "catch_data_error(D2_multiparam,0,1) "
   ]
  },
  {
   "cell_type": "markdown",
   "metadata": {},
   "source": [
    "Now all data and f are loaded"
   ]
  },
  {
   "cell_type": "markdown",
   "metadata": {},
   "source": [
    "### margin"
   ]
  },
  {
   "cell_type": "markdown",
   "metadata": {},
   "source": [
    "margin to infer intervals in which we wan to search"
   ]
  },
  {
   "cell_type": "code",
   "execution_count": null,
   "metadata": {},
   "outputs": [],
   "source": [
    "from src.load import margin"
   ]
  },
  {
   "cell_type": "code",
   "execution_count": null,
   "metadata": {},
   "outputs": [],
   "source": [
    "print(margin(0.95, 100, 0.01))\n",
    "print(margin(0.99, 100, 0.01))\n",
    "print(D[2][0]-margin(0.95, 1500, D[2][0]),\",\",D[2][0]+margin(0.95, 1500, D[2][0]))"
   ]
  },
  {
   "cell_type": "markdown",
   "metadata": {},
   "source": [
    "EXPERIMENTAL margin\n",
    "\n",
    "`0.029501395417987873\n",
    "0.0356291779716225\n",
    "0.024749946149793683 , 0.055250053850206315`"
   ]
  },
  {
   "cell_type": "markdown",
   "metadata": {},
   "source": [
    "<a name=\"two\"></a>"
   ]
  },
  {
   "cell_type": "markdown",
   "metadata": {},
   "source": [
    "## Data-informed parameter synthesis without using precomputed polynomials"
   ]
  },
  {
   "cell_type": "markdown",
   "metadata": {},
   "source": [
    "Now we are able to call parameter synthesis with the tresholds.\n",
    "\n",
    "The property looks like this:\n",
    "\n",
    "`P>data-margin F[BSCC0] & P<data+margin F[BSCC0] & `\n",
    "\n",
    "`P>data-margin F[BSCC1] & P<data+margin F[BSCC1] &`\n",
    "\n",
    "`...`\n",
    "\n",
    "instead of \n",
    "\n",
    "`P=? F[BSCC0] `, `P=? F[BSCC1] `, .... \n",
    "\n",
    "in the case of our approach"
   ]
  },
  {
   "cell_type": "markdown",
   "metadata": {},
   "source": [
    "Here we create data dependent properties"
   ]
  },
  {
   "cell_type": "code",
   "execution_count": null,
   "metadata": {},
   "outputs": [],
   "source": [
    "from src.mc_informed import create_data_informed_properties"
   ]
  },
  {
   "cell_type": "code",
   "execution_count": null,
   "metadata": {},
   "outputs": [],
   "source": [
    "alpha = 0.95\n",
    "n_samples = 100"
   ]
  },
  {
   "cell_type": "code",
   "execution_count": null,
   "metadata": {},
   "outputs": [],
   "source": [
    "#two-param as whole\n",
    "for i in agents_quantities:\n",
    "    create_data_informed_properties(i,D,alpha,n_samples,False,False)    "
   ]
  },
  {
   "cell_type": "code",
   "execution_count": null,
   "metadata": {},
   "outputs": [],
   "source": [
    "#two-param threshold-by-threshold\n",
    "for i in agents_quantities:\n",
    "    create_data_informed_properties(i,D,alpha,n_samples,False,True)    "
   ]
  },
  {
   "cell_type": "code",
   "execution_count": null,
   "metadata": {},
   "outputs": [],
   "source": [
    "#multiparam-param as whole\n",
    "for i in agents_quantities:\n",
    "    create_data_informed_properties(i,D_multiparam,alpha,n_samples,True,False)    "
   ]
  },
  {
   "cell_type": "code",
   "execution_count": null,
   "metadata": {},
   "outputs": [],
   "source": [
    "#multiparam-param threshold-by-threshold\n",
    "for i in agents_quantities:\n",
    "    create_data_informed_properties(i,D_multiparam,alpha,n_samples,True,True)    "
   ]
  },
  {
   "cell_type": "markdown",
   "metadata": {},
   "source": [
    "### Some theory to understand differences\n",
    "\n",
    "\n",
    "They are practically three ways to compute data-informed parameter synthesis for multiple properties:\n",
    "1. (***all at once approach***) is the easiest to run as you join separate properties into one using logical operators, in our case conjunction. After that, you have only one property. \n",
    "\n",
    "This may fall badly, because in each splitting solver has to answer every property, hence finding a point which satisfies each property and then proving unsatisfiability of the negation is a hard task.\n",
    "\n",
    "2. (***prop-by-prop approach***) by running each property separately and then joining the results intersection in case of conjunction of formulas and union in case of a disjunction of formulas\n",
    "\n",
    "Note that conjunction is easy operation on the set of hyperrectangles while the union is not so easy.\n",
    "Also, this method does go pretty bad when any of the property makes trouble.\n",
    "\n",
    "3. (***iterative approach***) In this approach we use easy to load on SMT solver by using only 1 property at the time and take the information of the results to next iteration for the second property. By this means we can cut off unsafe parts of the scanned region. \n",
    "\n",
    "There are two downfalls of this method:\n",
    "Storing information for the next iteration. After we have split the space into safe and unsafe regions in iteration *j* not only safe regions have to be stored, but also a white area with unknown result have to be used because we simply don't know. This is a tricky part because the white area is being changed during the computation, while we only add new red and green hyperrectangles to unsafe a safe area, respectively.\n",
    "\n",
    "The second problem appears after the last iteration. Since the results of this iteration are the safe regions of the last property in a truncated region. This can be avoided by adding all properties in the last iteration, which of course will increase computation load and may even outrank the first approach.\n",
    "\n",
    "Remark on heuristics: in order to perform best running one should sort the properties in such order that truncated space is decreasing, in another word, you want to exclude as much of space as you can in each iteration, so solving property which provides it as the first is the best move.\n",
    "\n",
    "Remark for all approaches: All approaches can be computed in parallel into some degree. For example, the easiest to parallel is the second approach. However, in each approach after splitting the space, new regions can be computed separately."
   ]
  },
  {
   "cell_type": "markdown",
   "metadata": {},
   "source": [
    "## PRISM (again)"
   ]
  },
  {
   "cell_type": "markdown",
   "metadata": {},
   "source": [
    "Now we can call prism with data information"
   ]
  },
  {
   "cell_type": "code",
   "execution_count": null,
   "metadata": {},
   "outputs": [],
   "source": [
    "from src.mc_informed import call_data_informed_prism"
   ]
  },
  {
   "cell_type": "code",
   "execution_count": null,
   "metadata": {},
   "outputs": [],
   "source": [
    "alpha = 0.95\n",
    "n_samples = 100"
   ]
  },
  {
   "cell_type": "markdown",
   "metadata": {},
   "source": [
    "### two-param as whole"
   ]
  },
  {
   "cell_type": "code",
   "execution_count": null,
   "metadata": {},
   "outputs": [],
   "source": [
    "#two-param as whole\n",
    "for i in agents_quantities:\n",
    "    call_data_informed_prism(i,[\"p\",\"q\"],D,alpha,n_samples,False,False)    \n",
    "    print()\n",
    "    print()"
   ]
  },
  {
   "cell_type": "markdown",
   "metadata": {},
   "source": [
    "### two-param prop-by-prop"
   ]
  },
  {
   "cell_type": "code",
   "execution_count": null,
   "metadata": {
    "scrolled": true
   },
   "outputs": [],
   "source": [
    "call_data_informed_prism(2,[\"p\",\"q\"],D,alpha,n_samples,False,True)"
   ]
  },
  {
   "cell_type": "code",
   "execution_count": null,
   "metadata": {
    "scrolled": true
   },
   "outputs": [],
   "source": [
    "call_data_informed_prism(3,[\"p\",\"q\"],D,alpha,n_samples,False,True)"
   ]
  },
  {
   "cell_type": "code",
   "execution_count": null,
   "metadata": {
    "scrolled": true
   },
   "outputs": [],
   "source": [
    "call_data_informed_prism(5,[\"p\",\"q\"],D,alpha,n_samples,False,True)"
   ]
  },
  {
   "cell_type": "code",
   "execution_count": null,
   "metadata": {
    "scrolled": true
   },
   "outputs": [],
   "source": [
    "call_data_informed_prism(10,[\"p\",\"q\"],D,alpha,n_samples,False,True)"
   ]
  },
  {
   "cell_type": "markdown",
   "metadata": {},
   "source": [
    "### multi-param as whole"
   ]
  },
  {
   "cell_type": "code",
   "execution_count": null,
   "metadata": {},
   "outputs": [],
   "source": [
    "#multiparametric-param as whole\n",
    "for population_size in agents_quantities:\n",
    "    if population_size ==2:\n",
    "        continue\n",
    "    parameters=[\"p\"]\n",
    "    for value in range(population_size-1):\n",
    "        parameters.append(\"q\"+str(value+1))\n",
    "        \n",
    "    call_data_informed_prism(population_size,parameters,D,alpha,n_samples,True,False)    \n",
    "    print()\n",
    "    print()"
   ]
  },
  {
   "cell_type": "markdown",
   "metadata": {},
   "source": [
    "The first command resulted in arround 9minutes with unsat for all regions. The second two did not halt in reasonable time (>15h). Therefore we show only commands."
   ]
  },
  {
   "cell_type": "markdown",
   "metadata": {},
   "source": [
    "### multi-param prop-by-prop"
   ]
  },
  {
   "cell_type": "code",
   "execution_count": null,
   "metadata": {
    "scrolled": true
   },
   "outputs": [],
   "source": [
    "call_data_informed_prism(3,[\"p\",\"q1\",\"q2\"],D,alpha,n_samples,True,True)"
   ]
  },
  {
   "cell_type": "code",
   "execution_count": null,
   "metadata": {
    "scrolled": true
   },
   "outputs": [],
   "source": [
    "call_data_informed_prism(5,[\"p\",\"q1\",\"q2\",\"q3\",\"q4\"],D,alpha,n_samples,True,True)"
   ]
  },
  {
   "cell_type": "code",
   "execution_count": null,
   "metadata": {
    "scrolled": true
   },
   "outputs": [],
   "source": [
    "call_data_informed_prism(10,[\"p\",\"q1\",\"q2\",\"q3\",\"q4\",\"q5\",\"q6\",\"q7\",\"q8\",\"q9\"],D,alpha,n_samples,True,True)"
   ]
  },
  {
   "cell_type": "markdown",
   "metadata": {},
   "source": [
    "Remark: on windows delete `time` from the command and use something else to measure time to proceed."
   ]
  },
  {
   "cell_type": "markdown",
   "metadata": {},
   "source": [
    "I could not find any way to run iterative method for PRISM."
   ]
  },
  {
   "cell_type": "markdown",
   "metadata": {},
   "source": [
    "## STORM"
   ]
  },
  {
   "cell_type": "markdown",
   "metadata": {},
   "source": [
    "Second option is to use Storm. Since Storm is complicated to install I assume you want to use Docker version: Here are the commands to be called in order to synthethetise parameters:"
   ]
  },
  {
   "cell_type": "code",
   "execution_count": null,
   "metadata": {},
   "outputs": [],
   "source": [
    "from src.mc_informed import call_storm"
   ]
  },
  {
   "cell_type": "code",
   "execution_count": null,
   "metadata": {},
   "outputs": [],
   "source": [
    "print(alpha)\n",
    "print(n_samples)\n",
    "print(D[2][0]+margin(alpha, 3500, 0.04))"
   ]
  },
  {
   "cell_type": "markdown",
   "metadata": {},
   "source": [
    "Again, if you are going to run following code on windows, please change `start=$SECONDS` and the last line accordingly (using for example `%time%`) or just skip measuring time. Thank you."
   ]
  },
  {
   "cell_type": "code",
   "execution_count": null,
   "metadata": {
    "scrolled": true
   },
   "outputs": [],
   "source": [
    "call_storm(2,[\"p\",\"q\"],D,alpha,n_samples,False)"
   ]
  },
  {
   "cell_type": "code",
   "execution_count": null,
   "metadata": {
    "scrolled": true
   },
   "outputs": [],
   "source": [
    "call_storm(3,[\"p\",\"q\"],D,alpha,n_samples,False)"
   ]
  },
  {
   "cell_type": "code",
   "execution_count": null,
   "metadata": {
    "scrolled": true
   },
   "outputs": [],
   "source": [
    "call_storm(5,[\"p\",\"q\"],D,alpha,n_samples,False)"
   ]
  },
  {
   "cell_type": "code",
   "execution_count": null,
   "metadata": {
    "scrolled": true
   },
   "outputs": [],
   "source": [
    "call_storm(10,[\"p\",\"q\"],D,alpha,n_samples,False)"
   ]
  },
  {
   "cell_type": "markdown",
   "metadata": {},
   "source": [
    "### multiparam"
   ]
  },
  {
   "cell_type": "code",
   "execution_count": null,
   "metadata": {
    "scrolled": true
   },
   "outputs": [],
   "source": [
    "call_storm(3,[\"p\",\"q1\",\"q2\"],D_multiparam,alpha,n_samples,True)"
   ]
  },
  {
   "cell_type": "code",
   "execution_count": null,
   "metadata": {
    "scrolled": true
   },
   "outputs": [],
   "source": [
    "call_storm(5,[\"p\",\"q1\",\"q2\",\"q3\",\"q4\"],D_multiparam,alpha,n_samples,True)"
   ]
  },
  {
   "cell_type": "code",
   "execution_count": null,
   "metadata": {},
   "outputs": [],
   "source": [
    "call_storm(10,[\"p\",\"q1\",\"q2\",\"q3\",\"q4\",\"q5\",\"q6\",\"q7\",\"q8\",\"q9\"],D_multiparam,alpha,n_samples,True)"
   ]
  },
  {
   "cell_type": "markdown",
   "metadata": {},
   "source": [
    "As you can see, the commnads take each threshold of property and run it separately. It is because there was an Error using multiple Probability operator in the single formula.\n",
    "\n",
    "Since Storm has crashed on multiparam_asynchronous_10.pm using prop-by-prop approach even for the easiest first property it is no meaning in tryin iterative approach an it is time to use SMT Solver, **z3**.\n",
    "If you have succeeded, or altered the call to make it work, please do not hesitate to contact us. Thank you.\n",
    "\n",
    "To see our approach see notebooks `sample_visualise` and `analysis`."
   ]
  },
  {
   "cell_type": "markdown",
   "metadata": {},
   "source": [
    "<a name=\"two\"></a>"
   ]
  },
  {
   "cell_type": "code",
   "execution_count": null,
   "metadata": {},
   "outputs": [],
   "source": []
  }
 ],
 "metadata": {
  "kernelspec": {
   "display_name": "Python 3",
   "language": "python",
   "name": "python3"
  },
  "language_info": {
   "codemirror_mode": {
    "name": "ipython",
    "version": 3
   },
   "file_extension": ".py",
   "mimetype": "text/x-python",
   "name": "python",
   "nbconvert_exporter": "python",
   "pygments_lexer": "ipython3",
   "version": "3.6.4"
  }
 },
 "nbformat": 4,
 "nbformat_minor": 2
}
